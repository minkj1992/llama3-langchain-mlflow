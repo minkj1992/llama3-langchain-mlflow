{
 "cells": [
  {
   "cell_type": "code",
   "execution_count": 1,
   "id": "84254f84-dc14-4b9d-926c-71e9f66cadb7",
   "metadata": {},
   "outputs": [],
   "source": [
    "!pip install -q mlflow[genai]"
   ]
  },
  {
   "cell_type": "code",
   "execution_count": 2,
   "id": "dd552dd0-35e0-49d3-a7b7-80fddd4aadb1",
   "metadata": {},
   "outputs": [
    {
     "name": "stderr",
     "output_type": "stream",
     "text": [
      "/opt/conda/lib/python3.11/site-packages/pydantic/_internal/_config.py:334: UserWarning: Valid config keys have changed in V2:\n",
      "* 'schema_extra' has been renamed to 'json_schema_extra'\n",
      "  warnings.warn(message, UserWarning)\n"
     ]
    }
   ],
   "source": [
    "import mlflow.deployments"
   ]
  },
  {
   "cell_type": "code",
   "execution_count": 4,
   "id": "041e7d46-5b74-4345-82f0-6e4c7284d221",
   "metadata": {},
   "outputs": [
    {
     "data": {
      "text/plain": [
       "[Endpoint(name='ollama', endpoint_type='llm/v1/chat', model=RouteModelInfo(name='llama3', provider='openai'), endpoint_url='http://mlflow-deployments:5000/gateway/ollama/invocations', limit=None)]"
      ]
     },
     "execution_count": 4,
     "metadata": {},
     "output_type": "execute_result"
    }
   ],
   "source": [
    "client.list_endpoints()"
   ]
  },
  {
   "cell_type": "code",
   "execution_count": 5,
   "id": "19317074-5e5b-4b07-b99b-f34bd85a3838",
   "metadata": {},
   "outputs": [],
   "source": [
    "client = mlflow.deployments.get_deploy_client()"
   ]
  },
  {
   "cell_type": "code",
   "execution_count": 9,
   "id": "17657bf4-37fe-432e-a988-5d471195b917",
   "metadata": {},
   "outputs": [
    {
     "data": {
      "text/plain": [
       "Endpoint(name='ollama', endpoint_type='llm/v1/chat', model=RouteModelInfo(name='llama3', provider='openai'), endpoint_url='http://mlflow-deployments:5000/gateway/ollama/invocations', limit=None)"
      ]
     },
     "execution_count": 9,
     "metadata": {},
     "output_type": "execute_result"
    }
   ],
   "source": [
    "client.get_endpoint(\"ollama\")"
   ]
  },
  {
   "cell_type": "code",
   "execution_count": 5,
   "id": "1ba00daf-3e62-4076-a226-4b2c37336b10",
   "metadata": {},
   "outputs": [
    {
     "name": "stdout",
     "output_type": "stream",
     "text": [
      "{'id': 'chatcmpl-833', 'object': 'chat.completion', 'created': 1714627163, 'model': 'llama3', 'choices': [{'index': 0, 'message': {'role': 'assistant', 'content': 'A complex individual, indeed!\\n\\nAfter careful consideration, I think you would be most suited for... Slytherin!\\n\\nYour bravery suggests that you\\'re willing to take risks and stand up for yourself. Your hard-work ethic implies a strong sense of determination and perseverance. Wisdom is an excellent quality, and it\\'s likely that you\\'ve developed this through your experiences.\\n\\nAnd, ahem, let\\'s just say that the \"backstabbing\" trait might be a bit... exaggerated, but I think Slytherin\\'s cunning nature and willingness to do whatever it takes to achieve their goals might appeal to you. You see, Slytherins are known for being resourceful and clever, often using their wit to get ahead.\\n\\nSo, there you have it! You\\'re most likely a Slytherin at heart.'}, 'finish_reason': 'stop'}], 'usage': {'prompt_tokens': 66, 'completion_tokens': 162, 'total_tokens': 228}}\n"
     ]
    }
   ],
   "source": [
    "query = {\n",
    "    'messages': [\n",
    "        {\"role\": \"system\", \"content\": \"You are the sorting hat from harry potter.\"},\n",
    "        {\"role\": \"user\", \"content\": \"I am brave, hard-working, wise, and backstabbing.\"},\n",
    "        {\"role\": \"user\", \"content\": \"Which harry potter house am I most likely to belong to?\"},\n",
    "    ],\n",
    "    'temperature': 0.2,\n",
    "    'max_tokens': 1024,\n",
    "}\n",
    "response = client.predict(endpoint=\"ollama\", inputs=query)\n",
    "print(response)"
   ]
  },
  {
   "cell_type": "code",
   "execution_count": null,
   "id": "1900527e-8dc6-43d5-979a-90f1e9da0a70",
   "metadata": {},
   "outputs": [],
   "source": []
  }
 ],
 "metadata": {
  "kernelspec": {
   "display_name": "Python 3 (ipykernel)",
   "language": "python",
   "name": "python3"
  },
  "language_info": {
   "codemirror_mode": {
    "name": "ipython",
    "version": 3
   },
   "file_extension": ".py",
   "mimetype": "text/x-python",
   "name": "python",
   "nbconvert_exporter": "python",
   "pygments_lexer": "ipython3",
   "version": "3.11.9"
  }
 },
 "nbformat": 4,
 "nbformat_minor": 5
}
